{
 "cells": [
  {
   "cell_type": "code",
   "execution_count": 1,
   "id": "8ff4caa7",
   "metadata": {},
   "outputs": [],
   "source": [
    "import pandas as pd\n",
    "import numpy as np\n",
    "from pandas import read_csv\n",
    "from sklearn.preprocessing import StandardScaler\n",
    "from sklearn.cluster import KMeans\n",
    "import matplotlib.pyplot as plt\n",
    "from sklearn.decomposition import PCA\n",
    "import seaborn as sns\n",
    "from sklearn.metrics import silhouette_score\n",
    "from sklearn.metrics import rand_score"
   ]
  },
  {
   "cell_type": "markdown",
   "id": "c64a0b00",
   "metadata": {},
   "source": [
    "# 1. Preprocessing\n"
   ]
  },
  {
   "cell_type": "markdown",
   "id": "aedb2aac",
   "metadata": {},
   "source": [
    "# import the data and convert it to dataframe"
   ]
  },
  {
   "cell_type": "code",
   "execution_count": 2,
   "id": "10530400",
   "metadata": {},
   "outputs": [],
   "source": [
    "df= read_csv(\"hepatitis.data\",names=(\"Class\",\"AGE\",\"SEX\",\"STEROID\",\"ANTIVIRALS\" ,\"FATIGUE\",\"MALAISE\",\"ANOREXIA\",\"LIVER BIG\",\"LIVER FIRM\",\n",
    "\"SPLEEN PALPABLE\",\"SPIDERS\",\"ASCITES\",\"VARICES\",\"BILIRUBIN\",\"ALK PHOSPHATE\",\"SGOT\",\"ALBUMIN\",\"PROTIME\",\"HISTOLOGY\"))\n",
    "df = df.replace('?',np.nan)"
   ]
  },
  {
   "cell_type": "code",
   "execution_count": 3,
   "id": "a65af55b",
   "metadata": {},
   "outputs": [
    {
     "data": {
      "text/html": [
       "<div>\n",
       "<style scoped>\n",
       "    .dataframe tbody tr th:only-of-type {\n",
       "        vertical-align: middle;\n",
       "    }\n",
       "\n",
       "    .dataframe tbody tr th {\n",
       "        vertical-align: top;\n",
       "    }\n",
       "\n",
       "    .dataframe thead th {\n",
       "        text-align: right;\n",
       "    }\n",
       "</style>\n",
       "<table border=\"1\" class=\"dataframe\">\n",
       "  <thead>\n",
       "    <tr style=\"text-align: right;\">\n",
       "      <th></th>\n",
       "      <th>0</th>\n",
       "      <th>1</th>\n",
       "      <th>2</th>\n",
       "      <th>3</th>\n",
       "      <th>4</th>\n",
       "    </tr>\n",
       "  </thead>\n",
       "  <tbody>\n",
       "    <tr>\n",
       "      <th>Class</th>\n",
       "      <td>2</td>\n",
       "      <td>2</td>\n",
       "      <td>2</td>\n",
       "      <td>2</td>\n",
       "      <td>2</td>\n",
       "    </tr>\n",
       "    <tr>\n",
       "      <th>AGE</th>\n",
       "      <td>30</td>\n",
       "      <td>50</td>\n",
       "      <td>78</td>\n",
       "      <td>31</td>\n",
       "      <td>34</td>\n",
       "    </tr>\n",
       "    <tr>\n",
       "      <th>SEX</th>\n",
       "      <td>2</td>\n",
       "      <td>1</td>\n",
       "      <td>1</td>\n",
       "      <td>1</td>\n",
       "      <td>1</td>\n",
       "    </tr>\n",
       "    <tr>\n",
       "      <th>STEROID</th>\n",
       "      <td>1</td>\n",
       "      <td>1</td>\n",
       "      <td>2</td>\n",
       "      <td>NaN</td>\n",
       "      <td>2</td>\n",
       "    </tr>\n",
       "    <tr>\n",
       "      <th>ANTIVIRALS</th>\n",
       "      <td>2</td>\n",
       "      <td>2</td>\n",
       "      <td>2</td>\n",
       "      <td>1</td>\n",
       "      <td>2</td>\n",
       "    </tr>\n",
       "    <tr>\n",
       "      <th>FATIGUE</th>\n",
       "      <td>2</td>\n",
       "      <td>1</td>\n",
       "      <td>1</td>\n",
       "      <td>2</td>\n",
       "      <td>2</td>\n",
       "    </tr>\n",
       "    <tr>\n",
       "      <th>MALAISE</th>\n",
       "      <td>2</td>\n",
       "      <td>2</td>\n",
       "      <td>2</td>\n",
       "      <td>2</td>\n",
       "      <td>2</td>\n",
       "    </tr>\n",
       "    <tr>\n",
       "      <th>ANOREXIA</th>\n",
       "      <td>2</td>\n",
       "      <td>2</td>\n",
       "      <td>2</td>\n",
       "      <td>2</td>\n",
       "      <td>2</td>\n",
       "    </tr>\n",
       "    <tr>\n",
       "      <th>LIVER BIG</th>\n",
       "      <td>1</td>\n",
       "      <td>1</td>\n",
       "      <td>2</td>\n",
       "      <td>2</td>\n",
       "      <td>2</td>\n",
       "    </tr>\n",
       "    <tr>\n",
       "      <th>LIVER FIRM</th>\n",
       "      <td>2</td>\n",
       "      <td>2</td>\n",
       "      <td>2</td>\n",
       "      <td>2</td>\n",
       "      <td>2</td>\n",
       "    </tr>\n",
       "    <tr>\n",
       "      <th>SPLEEN PALPABLE</th>\n",
       "      <td>2</td>\n",
       "      <td>2</td>\n",
       "      <td>2</td>\n",
       "      <td>2</td>\n",
       "      <td>2</td>\n",
       "    </tr>\n",
       "    <tr>\n",
       "      <th>SPIDERS</th>\n",
       "      <td>2</td>\n",
       "      <td>2</td>\n",
       "      <td>2</td>\n",
       "      <td>2</td>\n",
       "      <td>2</td>\n",
       "    </tr>\n",
       "    <tr>\n",
       "      <th>ASCITES</th>\n",
       "      <td>2</td>\n",
       "      <td>2</td>\n",
       "      <td>2</td>\n",
       "      <td>2</td>\n",
       "      <td>2</td>\n",
       "    </tr>\n",
       "    <tr>\n",
       "      <th>VARICES</th>\n",
       "      <td>2</td>\n",
       "      <td>2</td>\n",
       "      <td>2</td>\n",
       "      <td>2</td>\n",
       "      <td>2</td>\n",
       "    </tr>\n",
       "    <tr>\n",
       "      <th>BILIRUBIN</th>\n",
       "      <td>1.00</td>\n",
       "      <td>0.90</td>\n",
       "      <td>0.70</td>\n",
       "      <td>0.70</td>\n",
       "      <td>1.00</td>\n",
       "    </tr>\n",
       "    <tr>\n",
       "      <th>ALK PHOSPHATE</th>\n",
       "      <td>85</td>\n",
       "      <td>135</td>\n",
       "      <td>96</td>\n",
       "      <td>46</td>\n",
       "      <td>NaN</td>\n",
       "    </tr>\n",
       "    <tr>\n",
       "      <th>SGOT</th>\n",
       "      <td>18</td>\n",
       "      <td>42</td>\n",
       "      <td>32</td>\n",
       "      <td>52</td>\n",
       "      <td>200</td>\n",
       "    </tr>\n",
       "    <tr>\n",
       "      <th>ALBUMIN</th>\n",
       "      <td>4.0</td>\n",
       "      <td>3.5</td>\n",
       "      <td>4.0</td>\n",
       "      <td>4.0</td>\n",
       "      <td>4.0</td>\n",
       "    </tr>\n",
       "    <tr>\n",
       "      <th>PROTIME</th>\n",
       "      <td>NaN</td>\n",
       "      <td>NaN</td>\n",
       "      <td>NaN</td>\n",
       "      <td>80</td>\n",
       "      <td>NaN</td>\n",
       "    </tr>\n",
       "    <tr>\n",
       "      <th>HISTOLOGY</th>\n",
       "      <td>1</td>\n",
       "      <td>1</td>\n",
       "      <td>1</td>\n",
       "      <td>1</td>\n",
       "      <td>1</td>\n",
       "    </tr>\n",
       "  </tbody>\n",
       "</table>\n",
       "</div>"
      ],
      "text/plain": [
       "                    0     1     2     3     4\n",
       "Class               2     2     2     2     2\n",
       "AGE                30    50    78    31    34\n",
       "SEX                 2     1     1     1     1\n",
       "STEROID             1     1     2   NaN     2\n",
       "ANTIVIRALS          2     2     2     1     2\n",
       "FATIGUE             2     1     1     2     2\n",
       "MALAISE             2     2     2     2     2\n",
       "ANOREXIA            2     2     2     2     2\n",
       "LIVER BIG           1     1     2     2     2\n",
       "LIVER FIRM          2     2     2     2     2\n",
       "SPLEEN PALPABLE     2     2     2     2     2\n",
       "SPIDERS             2     2     2     2     2\n",
       "ASCITES             2     2     2     2     2\n",
       "VARICES             2     2     2     2     2\n",
       "BILIRUBIN        1.00  0.90  0.70  0.70  1.00\n",
       "ALK PHOSPHATE      85   135    96    46   NaN\n",
       "SGOT               18    42    32    52   200\n",
       "ALBUMIN           4.0   3.5   4.0   4.0   4.0\n",
       "PROTIME           NaN   NaN   NaN    80   NaN\n",
       "HISTOLOGY           1     1     1     1     1"
      ]
     },
     "execution_count": 3,
     "metadata": {},
     "output_type": "execute_result"
    }
   ],
   "source": [
    "df.head().transpose()"
   ]
  },
  {
   "cell_type": "code",
   "execution_count": 4,
   "id": "78197e23",
   "metadata": {},
   "outputs": [
    {
     "data": {
      "text/plain": [
       "(155, 20)"
      ]
     },
     "execution_count": 4,
     "metadata": {},
     "output_type": "execute_result"
    }
   ],
   "source": [
    "df.shape"
   ]
  },
  {
   "cell_type": "code",
   "execution_count": 5,
   "id": "53882e81",
   "metadata": {},
   "outputs": [
    {
     "name": "stdout",
     "output_type": "stream",
     "text": [
      "<class 'pandas.core.frame.DataFrame'>\n",
      "RangeIndex: 155 entries, 0 to 154\n",
      "Data columns (total 20 columns):\n",
      " #   Column           Non-Null Count  Dtype \n",
      "---  ------           --------------  ----- \n",
      " 0   Class            155 non-null    int64 \n",
      " 1   AGE              155 non-null    int64 \n",
      " 2   SEX              155 non-null    int64 \n",
      " 3   STEROID          154 non-null    object\n",
      " 4   ANTIVIRALS       155 non-null    int64 \n",
      " 5   FATIGUE          154 non-null    object\n",
      " 6   MALAISE          154 non-null    object\n",
      " 7   ANOREXIA         154 non-null    object\n",
      " 8   LIVER BIG        145 non-null    object\n",
      " 9   LIVER FIRM       144 non-null    object\n",
      " 10  SPLEEN PALPABLE  150 non-null    object\n",
      " 11  SPIDERS          150 non-null    object\n",
      " 12  ASCITES          150 non-null    object\n",
      " 13  VARICES          150 non-null    object\n",
      " 14  BILIRUBIN        149 non-null    object\n",
      " 15  ALK PHOSPHATE    126 non-null    object\n",
      " 16  SGOT             151 non-null    object\n",
      " 17  ALBUMIN          139 non-null    object\n",
      " 18  PROTIME          88 non-null     object\n",
      " 19  HISTOLOGY        155 non-null    int64 \n",
      "dtypes: int64(5), object(15)\n",
      "memory usage: 24.3+ KB\n"
     ]
    }
   ],
   "source": [
    "#data type\n",
    "df.info()"
   ]
  },
  {
   "cell_type": "code",
   "execution_count": 6,
   "id": "3ef2bcc0",
   "metadata": {},
   "outputs": [
    {
     "data": {
      "text/plain": [
       "Class               0\n",
       "AGE                 0\n",
       "SEX                 0\n",
       "STEROID             1\n",
       "ANTIVIRALS          0\n",
       "FATIGUE             1\n",
       "MALAISE             1\n",
       "ANOREXIA            1\n",
       "LIVER BIG          10\n",
       "LIVER FIRM         11\n",
       "SPLEEN PALPABLE     5\n",
       "SPIDERS             5\n",
       "ASCITES             5\n",
       "VARICES             5\n",
       "BILIRUBIN           6\n",
       "ALK PHOSPHATE      29\n",
       "SGOT                4\n",
       "ALBUMIN            16\n",
       "PROTIME            67\n",
       "HISTOLOGY           0\n",
       "dtype: int64"
      ]
     },
     "execution_count": 6,
     "metadata": {},
     "output_type": "execute_result"
    }
   ],
   "source": [
    "df.isnull().sum()"
   ]
  },
  {
   "cell_type": "code",
   "execution_count": 7,
   "id": "00c4e195",
   "metadata": {},
   "outputs": [
    {
     "data": {
      "image/png": "[encoded data removed]",
      "text/plain": [
       "<Figure size 432x288 with 1 Axes>"
      ]
     },
     "metadata": {},
     "output_type": "display_data"
    }
   ],
   "source": [
    "sns.set()\n",
    "df[\"Class\"] = df[\"Class\"].astype(int)\n",
    "class_count=sns.countplot(x=\"Class\", data=df)\n",
    "plt.gca().set_xticklabels(['DIE','LIVE']);\n",
    "\n",
    "class_count.figure.savefig('class.png')"
   ]
  },
  {
   "cell_type": "markdown",
   "id": "ef05361e",
   "metadata": {},
   "source": [
    "# identifiying missing values"
   ]
  },
  {
   "cell_type": "code",
   "execution_count": 9,
   "id": "df10d1c0",
   "metadata": {},
   "outputs": [
    {
     "data": {
      "text/plain": [
       "Class               0.000000\n",
       "AGE                 0.000000\n",
       "SEX                 0.000000\n",
       "STEROID             0.645161\n",
       "ANTIVIRALS          0.000000\n",
       "FATIGUE             0.645161\n",
       "MALAISE             0.645161\n",
       "ANOREXIA            0.645161\n",
       "LIVER BIG           6.451613\n",
       "LIVER FIRM          7.096774\n",
       "SPLEEN PALPABLE     3.225806\n",
       "SPIDERS             3.225806\n",
       "ASCITES             3.225806\n",
       "VARICES             3.225806\n",
       "BILIRUBIN           3.870968\n",
       "ALK PHOSPHATE      18.709677\n",
       "SGOT                2.580645\n",
       "ALBUMIN            10.322581\n",
       "PROTIME            43.225806\n",
       "HISTOLOGY           0.000000\n",
       "dtype: float64"
      ]
     },
     "execution_count": 9,
     "metadata": {},
     "output_type": "execute_result"
    }
   ],
   "source": [
    "df.isna().sum()/len(df)*100"
   ]
  },
  {
   "cell_type": "code",
   "execution_count": 10,
   "id": "ba024d8f",
   "metadata": {},
   "outputs": [
    {
     "data": {
      "image/png": "[encoded data removed]",
      "text/plain": [
       "<Figure size 432x288 with 1 Axes>"
      ]
     },
     "metadata": {},
     "output_type": "display_data"
    }
   ],
   "source": [
    "pd.isnull(df).sum()[0:20].plot(kind='bar')\n",
    "plt.xlabel('Attributes')\n",
    "plt.ylabel('Count of NaN');"
   ]
  },
  {
   "cell_type": "markdown",
   "id": "cabc910d",
   "metadata": {},
   "source": [
    "# get the numeric columns and fill the missing values"
   ]
  },
  {
   "cell_type": "code",
   "execution_count": 13,
   "id": "bd1aea3d",
   "metadata": {},
   "outputs": [],
   "source": [
    "df['BILIRUBIN']=pd.to_numeric(df['BILIRUBIN'],errors='coerce').astype('float64')\n",
    "df['BILIRUBIN']=df['BILIRUBIN'].fillna(df['BILIRUBIN'].mean())\n",
    "\n",
    "df[\"ALK PHOSPHATE\"]=pd.to_numeric(df[\"ALK PHOSPHATE\"],errors='coerce').astype('float64')\n",
    "df[\"ALK PHOSPHATE\"]=df[\"ALK PHOSPHATE\"].fillna(df[\"ALK PHOSPHATE\"].mean())\n",
    "\n",
    "df[\"SGOT\"]=pd.to_numeric(df[\"SGOT\"],errors='coerce').astype('float64')\n",
    "df[\"SGOT\"]=df[\"SGOT\"].fillna(df[\"SGOT\"].mean())\n",
    "\n",
    "df[\"ALBUMIN\"]=pd.to_numeric(df[\"ALBUMIN\"],errors='coerce').astype('float64')\n",
    "df[\"ALBUMIN\"]=df[\"ALBUMIN\"].fillna(df[\"ALBUMIN\"].mean())\n",
    "\n",
    "df[\"PROTIME\"]=pd.to_numeric(df[\"PROTIME\"],errors='coerce').astype('float64')\n",
    "df[\"PROTIME\"]=df[\"PROTIME\"].fillna(df[\"PROTIME\"].mean())"
   ]
  },
  {
   "cell_type": "code",
   "execution_count": 112,
   "id": "40875d1e",
   "metadata": {},
   "outputs": [
    {
     "data": {
      "text/plain": [
       "Class               0\n",
       "AGE                 0\n",
       "SEX                 0\n",
       "STEROID             1\n",
       "ANTIVIRALS          0\n",
       "FATIGUE             1\n",
       "MALAISE             1\n",
       "ANOREXIA            1\n",
       "LIVER BIG          10\n",
       "LIVER FIRM         11\n",
       "SPLEEN PALPABLE     5\n",
       "SPIDERS             5\n",
       "ASCITES             5\n",
       "VARICES             5\n",
       "BILIRUBIN           0\n",
       "ALK PHOSPHATE       0\n",
       "SGOT                0\n",
       "ALBUMIN             0\n",
       "PROTIME             0\n",
       "HISTOLOGY           0\n",
       "dtype: int64"
      ]
     },
     "execution_count": 112,
     "metadata": {},
     "output_type": "execute_result"
    }
   ],
   "source": [
    "df.isnull().sum()"
   ]
  },
  {
   "cell_type": "markdown",
   "id": "041cd488",
   "metadata": {},
   "source": [
    "# get categorical columns and fill the missing values"
   ]
  },
  {
   "cell_type": "code",
   "execution_count": 113,
   "id": "900e2502",
   "metadata": {},
   "outputs": [],
   "source": [
    "df= df.fillna(df.mode().iloc[0])"
   ]
  },
  {
   "cell_type": "code",
   "execution_count": 114,
   "id": "e7c9a238",
   "metadata": {},
   "outputs": [
    {
     "data": {
      "text/plain": [
       "Class              0\n",
       "AGE                0\n",
       "SEX                0\n",
       "STEROID            0\n",
       "ANTIVIRALS         0\n",
       "FATIGUE            0\n",
       "MALAISE            0\n",
       "ANOREXIA           0\n",
       "LIVER BIG          0\n",
       "LIVER FIRM         0\n",
       "SPLEEN PALPABLE    0\n",
       "SPIDERS            0\n",
       "ASCITES            0\n",
       "VARICES            0\n",
       "BILIRUBIN          0\n",
       "ALK PHOSPHATE      0\n",
       "SGOT               0\n",
       "ALBUMIN            0\n",
       "PROTIME            0\n",
       "HISTOLOGY          0\n",
       "dtype: int64"
      ]
     },
     "execution_count": 114,
     "metadata": {},
     "output_type": "execute_result"
    }
   ],
   "source": [
    "df.isnull().sum()"
   ]
  },
  {
   "cell_type": "markdown",
   "id": "13ef66ae",
   "metadata": {},
   "source": [
    "# Standardizing the scale\n"
   ]
  },
  {
   "cell_type": "code",
   "execution_count": 115,
   "id": "b1ce7efc",
   "metadata": {},
   "outputs": [],
   "source": [
    "sc = StandardScaler()\n",
    "df_scaled = pd.DataFrame(sc.fit_transform(df.drop(\"Class\", axis=1)),columns = (df.drop(\"Class\", axis=1)).columns)"
   ]
  },
  {
   "cell_type": "markdown",
   "id": "d0e124aa",
   "metadata": {},
   "source": [
    "# PCA"
   ]
  },
  {
   "cell_type": "code",
   "execution_count": 116,
   "id": "f02f7d7f",
   "metadata": {},
   "outputs": [],
   "source": [
    "pca = PCA(n_components=2)\n",
    "pca.fit(df_scaled)\n",
    "\n",
    "# Transform samples using the PCA fit\n",
    "pca_2d = pca.transform(df_scaled)"
   ]
  },
  {
   "cell_type": "markdown",
   "id": "e09fda51",
   "metadata": {},
   "source": [
    "# 2. visualization"
   ]
  },
  {
   "cell_type": "code",
   "execution_count": 117,
   "id": "d54b99b7",
   "metadata": {},
   "outputs": [
    {
     "data": {
      "image/png": "[encoded data removed]",
      "text/plain": [
       "<Figure size 432x288 with 1 Axes>"
      ]
     },
     "metadata": {},
     "output_type": "display_data"
    }
   ],
   "source": [
    "plt.scatter(pca_2d[:,0],pca_2d[:,1],s=7)\n",
    "plt.show()"
   ]
  },
  {
   "cell_type": "markdown",
   "id": "04cab0f8",
   "metadata": {},
   "source": [
    "# 3. K_means"
   ]
  },
  {
   "cell_type": "code",
   "execution_count": 118,
   "id": "0951e0d5",
   "metadata": {},
   "outputs": [],
   "source": [
    "silhouette_coefficients =[]\n",
    "randed_score=[]"
   ]
  },
  {
   "cell_type": "code",
   "execution_count": 137,
   "id": "409bd130",
   "metadata": {},
   "outputs": [
    {
     "data": {
      "image/png": "[encoded data removed]",
      "text/plain": [
       "<Figure size 432x288 with 1 Axes>"
      ]
     },
     "metadata": {},
     "output_type": "display_data"
    }
   ],
   "source": [
    "\n",
    "\n",
    "for i in range(31):\n",
    "        \n",
    "    km=KMeans(n_clusters=2, init ='random').fit(pca_2d)\n",
    "    y_kmeans = km.fit_predict(pca_2d)\n",
    "    \n",
    "    #silhouetter score\n",
    "    sil_score =silhouette_score(df_scaled, km.labels_) \n",
    "    silhouette_coefficients.append(sil_score)\n",
    "\n",
    "    \n",
    "    #RAND SCORE\n",
    "    rn_score = rand_score(data['Class'],km.labels_)\n",
    "    randed_score.append(rn_score)\n",
    "\n",
    "    #visualisation clusters\n",
    "    plt.scatter(pca_2d[:,0],pca_2d[:,1],s=7,c=km.labels_)\n",
    "\n",
    "    \n",
    "for i in range(2): \n",
    "    plt.scatter(km.cluster_centers_[i,0], km.cluster_centers_[i,1], marker='*', c='r', s=150)\n",
    "\n"
   ]
  },
  {
   "cell_type": "code",
   "execution_count": 138,
   "id": "be80cf4d",
   "metadata": {},
   "outputs": [
    {
     "data": {
      "text/plain": [
       "0.6702136573104315"
      ]
     },
     "execution_count": 138,
     "metadata": {},
     "output_type": "execute_result"
    }
   ],
   "source": [
    "np.max(randed_score)"
   ]
  },
  {
   "cell_type": "code",
   "execution_count": 139,
   "id": "871d2ce0",
   "metadata": {},
   "outputs": [],
   "source": [
    "X1 = np.std(randed_score)\n",
    "X2 = np.max(randed_score)\n",
    "X3 = np.min(randed_score)\n",
    "X4 = np.mean(randed_score)"
   ]
  },
  {
   "cell_type": "code",
   "execution_count": 140,
   "id": "e4ed94e5",
   "metadata": {},
   "outputs": [
    {
     "data": {
      "text/plain": [
       "0.18260102414376123"
      ]
     },
     "execution_count": 140,
     "metadata": {},
     "output_type": "execute_result"
    }
   ],
   "source": [
    "np.min(silhouette_coefficients)"
   ]
  },
  {
   "cell_type": "code",
   "execution_count": 141,
   "id": "d8a3eec2",
   "metadata": {},
   "outputs": [],
   "source": [
    "Y1 = np.std(silhouette_coefficients)\n",
    "Y2 = np.max(silhouette_coefficients)\n",
    "Y3 = np.min(silhouette_coefficients)\n",
    "Y4 = np.mean(silhouette_coefficients)"
   ]
  },
  {
   "cell_type": "markdown",
   "id": "a8ba70e1",
   "metadata": {},
   "source": [
    "# 4. Generate Excel file "
   ]
  },
  {
   "cell_type": "code",
   "execution_count": 143,
   "id": "39bd984e",
   "metadata": {},
   "outputs": [],
   "source": [
    "path = r\"C:\\Users\\MAXFRAME\\Desktop\\DamiExcel\\data_hepatitis.xlsx\"\n",
    "dami={'rand_score':[X1,X2,X3,X4],'silhouette_coefficients':[Y1,Y2,Y3,Y4]}\n",
    "\n",
    "df1 = pd.DataFrame(dami,index=['std','max','min', 'mean'])\n",
    "\n",
    "writer = pd.ExcelWriter(path, engine = 'xlsxwriter')\n",
    "\n",
    "df1.to_excel(writer)\n",
    "\n",
    "writer.save()\n",
    "writer.close()"
   ]
  },
  {
   "cell_type": "code",
   "execution_count": null,
   "id": "59df6cc3",
   "metadata": {},
   "outputs": [],
   "source": []
  }
 ],
 "metadata": {
  "kernelspec": {
   "display_name": "Python 3",
   "language": "python",
   "name": "python3"
  },
  "language_info": {
   "codemirror_mode": {
    "name": "ipython",
    "version": 3
   },
   "file_extension": ".py",
   "mimetype": "text/x-python",
   "name": "python",
   "nbconvert_exporter": "python",
   "pygments_lexer": "ipython3",
   "version": "3.8.8"
  }
 },
 "nbformat": 4,
 "nbformat_minor": 5
}
