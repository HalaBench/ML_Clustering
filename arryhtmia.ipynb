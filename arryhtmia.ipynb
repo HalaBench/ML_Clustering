{
 "cells": [
  {
   "cell_type": "code",
   "execution_count": 1,
   "id": "2dd61235",
   "metadata": {},
   "outputs": [],
   "source": [
    "import pandas as pd\n",
    "import numpy as np\n",
    "from sklearn.preprocessing import StandardScaler, MinMaxScaler\n",
    "\n",
    "from sklearn.cluster import KMeans\n",
    "from pandas import read_csv\n",
    "import matplotlib.pyplot as plt\n",
    "\n",
    "from sklearn.decomposition import PCA\n",
    "from sklearn.metrics import silhouette_score\n",
    "from sklearn.metrics.cluster import rand_score\n",
    "import seaborn as sns\n"
   ]
  },
  {
   "cell_type": "markdown",
   "id": "abf1b540",
   "metadata": {},
   "source": [
    "# 1. Preprocessing"
   ]
  },
  {
   "cell_type": "markdown",
   "id": "204bf4fa",
   "metadata": {},
   "source": [
    "# import the data and convert it to dataframe"
   ]
  },
  {
   "cell_type": "code",
   "execution_count": 2,
   "id": "2def4bf5",
   "metadata": {},
   "outputs": [],
   "source": [
    "df= read_csv('arrhythmia.data',names=(\"Age\",\"Sex\",\"Height\",\"Weight\",\"QRS_Dur\",\n",
    "\"P-R_Int\",\"Q-T_Int\",\"T_Int\",\"P_Int\",\"QRS\",\"T\",\"P\",\"QRST\",\"J\",\"Heart_Rate\",\n",
    "\"Q_Wave\",\"R_Wave\",\"S_Wave\",\"R'_Wave\",\"S'_Wave\",\"Int_Def\",\"Rag_R_Nom\",\n",
    "\"Diph_R_Nom\",\"Rag_P_Nom\",\"Diph_P_Nom\",\"Rag_T_Nom\",\"Diph_T_Nom\", \n",
    "\"DII00\", \"DII01\",\"DII02\", \"DII03\", \"DII04\",\"DII05\",\"DII06\",\"DII07\",\"DII08\",\"DII09\",\"DII10\",\"DII11\",\n",
    "\"DIII00\",\"DIII01\",\"DIII02\", \"DIII03\", \"DIII04\",\"DIII05\",\"DIII06\",\"DIII07\",\"DIII08\",\"DIII09\",\"DIII10\",\"DIII11\",\n",
    "\"AVR00\",\"AVR01\",\"AVR02\",\"AVR03\",\"AVR04\",\"AVR05\",\"AVR06\",\"AVR07\",\"AVR08\",\"AVR09\",\"AVR10\",\"AVR11\",\n",
    "\"AVL00\",\"AVL01\",\"AVL02\",\"AVL03\",\"AVL04\",\"AVL05\",\"AVL06\",\"AVL07\",\"AVL08\",\"AVL09\",\"AVL10\",\"AVL11\",\n",
    "\"AVF00\",\"AVF01\",\"AVF02\",\"AVF03\",\"AVF04\",\"AVF05\",\"AVF06\",\"AVF07\",\"AVF08\",\"AVF09\",\"AVF10\",\"AVF11\",\n",
    "\"V100\",\"V101\",\"V102\",\"V103\",\"V104\",\"V105\",\"V106\",\"V107\",\"V108\",\"V109\",\"V110\",\"V111\",\n",
    "\"V200\",\"V201\",\"V202\",\"V203\",\"V204\",\"V205\",\"V206\",\"V207\",\"V208\",\"V209\",\"V210\",\"V211\",\n",
    "\"V300\",\"V301\",\"V302\",\"V303\",\"V304\",\"V305\",\"V306\",\"V307\",\"V308\",\"V309\",\"V310\",\"V311\",\n",
    "\"V400\",\"V401\",\"V402\",\"V403\",\"V404\",\"V405\",\"V406\",\"V407\",\"V408\",\"V409\",\"V410\",\"V411\",\n",
    "\"V500\",\"V501\",\"V502\",\"V503\",\"V504\",\"V505\",\"V506\",\"V507\",\"V508\",\"V509\",\"V510\",\"V511\",\n",
    "\"V600\",\"V601\",\"V602\",\"V603\",\"V604\",\"V605\",\"V606\",\"V607\",\"V608\",\"V609\",\"V610\",\"V611\",\n",
    "\"JJ_Wave\",\"Amp_Q_Wave\",\"Amp_R_Wave\",\"Amp_S_Wave\",\"R_Prime_Wave\",\"S_Prime_Wave\",\"P_Wave\",\"T_Wave\",\n",
    "\"QRSA\",\"QRSTA\",\"DII170\",\"DII171\",\"DII172\",\"DII173\",\"DII174\",\"DII175\",\"DII176\",\"DII177\",\"DII178\",\"DII179\",\n",
    "\"DIII180\",\"DIII181\",\"DIII182\",\"DIII183\",\"DIII184\",\"DIII185\",\"DIII186\",\"DIII187\",\"DIII188\",\"DIII189\",\n",
    "\"AVR190\",\"AVR191\",\"AVR192\",\"AVR193\",\"AVR194\",\"AVR195\",\"AVR196\",\"AVR197\",\"AVR198\",\"AVR199\",\n",
    "\"AVL200\",\"AVL201\",\"AVL202\",\"AVL203\",\"AVL204\",\"AVL205\",\"AVL206\",\"AVL207\",\"AVL208\",\"AVL209\",\n",
    "\"AVF210\",\"AVF211\",\"AVF212\",\"AVF213\",\"AVF214\",\"AVF215\",\"AVF216\",\"AVF217\",\"AVF218\",\"AVF219\",\n",
    "\"V1220\",\"V1221\",\"V1222\",\"V1223\",\"V1224\",\"V1225\",\"V1226\",\"V1227\",\"V1228\",\"V1229\",\n",
    "\"V2230\",\"V2231\",\"V2232\",\"V2233\",\"V2234\",\"V2235\",\"V2236\",\"V2237\",\"V2238\",\"V2239\",\n",
    "\"V3240\",\"V3241\",\"V3242\",\"V3243\",\"V3244\",\"V3245\",\"V3246\",\"V3247\",\"V3248\",\"V3249\",\n",
    "\"V4250\",\"V4251\",\"V4252\",\"V4253\",\"V4254\",\"V4255\",\"V4256\",\"V4257\",\"V4258\",\"V4259\",\n",
    "\"V5260\",\"V5261\",\"V5262\",\"V5263\",\"V5264\",\"V5265\",\"V5266\",\"V5267\",\"V5268\",\"V5269\",\n",
    "\"V6270\",\"V6271\",\"V6272\",\"V6273\",\"V6274\",\"V6275\",\"V6276\",\"V6277\",\"V6278\",\"V6279\",\"Class\"))\n",
    "\n",
    "\n",
    "df = df.replace('?',np.nan)"
   ]
  },
  {
   "cell_type": "code",
   "execution_count": 3,
   "id": "d5209783",
   "metadata": {
    "scrolled": true
   },
   "outputs": [
    {
     "data": {
      "text/html": [
       "<div>\n",
       "<style scoped>\n",
       "    .dataframe tbody tr th:only-of-type {\n",
       "        vertical-align: middle;\n",
       "    }\n",
       "\n",
       "    .dataframe tbody tr th {\n",
       "        vertical-align: top;\n",
       "    }\n",
       "\n",
       "    .dataframe thead th {\n",
       "        text-align: right;\n",
       "    }\n",
       "</style>\n",
       "<table border=\"1\" class=\"dataframe\">\n",
       "  <thead>\n",
       "    <tr style=\"text-align: right;\">\n",
       "      <th></th>\n",
       "      <th>0</th>\n",
       "      <th>1</th>\n",
       "      <th>2</th>\n",
       "      <th>3</th>\n",
       "      <th>4</th>\n",
       "    </tr>\n",
       "  </thead>\n",
       "  <tbody>\n",
       "    <tr>\n",
       "      <th>Age</th>\n",
       "      <td>75</td>\n",
       "      <td>56</td>\n",
       "      <td>54</td>\n",
       "      <td>55</td>\n",
       "      <td>75</td>\n",
       "    </tr>\n",
       "    <tr>\n",
       "      <th>Sex</th>\n",
       "      <td>0</td>\n",
       "      <td>1</td>\n",
       "      <td>0</td>\n",
       "      <td>0</td>\n",
       "      <td>0</td>\n",
       "    </tr>\n",
       "    <tr>\n",
       "      <th>Height</th>\n",
       "      <td>190</td>\n",
       "      <td>165</td>\n",
       "      <td>172</td>\n",
       "      <td>175</td>\n",
       "      <td>190</td>\n",
       "    </tr>\n",
       "    <tr>\n",
       "      <th>Weight</th>\n",
       "      <td>80</td>\n",
       "      <td>64</td>\n",
       "      <td>95</td>\n",
       "      <td>94</td>\n",
       "      <td>80</td>\n",
       "    </tr>\n",
       "    <tr>\n",
       "      <th>QRS_Dur</th>\n",
       "      <td>91</td>\n",
       "      <td>81</td>\n",
       "      <td>138</td>\n",
       "      <td>100</td>\n",
       "      <td>88</td>\n",
       "    </tr>\n",
       "    <tr>\n",
       "      <th>...</th>\n",
       "      <td>...</td>\n",
       "      <td>...</td>\n",
       "      <td>...</td>\n",
       "      <td>...</td>\n",
       "      <td>...</td>\n",
       "    </tr>\n",
       "    <tr>\n",
       "      <th>V6276</th>\n",
       "      <td>0.9</td>\n",
       "      <td>0.2</td>\n",
       "      <td>0.3</td>\n",
       "      <td>0.4</td>\n",
       "      <td>-0.1</td>\n",
       "    </tr>\n",
       "    <tr>\n",
       "      <th>V6277</th>\n",
       "      <td>2.9</td>\n",
       "      <td>2.1</td>\n",
       "      <td>3.4</td>\n",
       "      <td>2.6</td>\n",
       "      <td>3.9</td>\n",
       "    </tr>\n",
       "    <tr>\n",
       "      <th>V6278</th>\n",
       "      <td>23.3</td>\n",
       "      <td>20.4</td>\n",
       "      <td>12.3</td>\n",
       "      <td>34.6</td>\n",
       "      <td>25.4</td>\n",
       "    </tr>\n",
       "    <tr>\n",
       "      <th>V6279</th>\n",
       "      <td>49.4</td>\n",
       "      <td>38.8</td>\n",
       "      <td>49.0</td>\n",
       "      <td>61.6</td>\n",
       "      <td>62.8</td>\n",
       "    </tr>\n",
       "    <tr>\n",
       "      <th>Class</th>\n",
       "      <td>8</td>\n",
       "      <td>6</td>\n",
       "      <td>10</td>\n",
       "      <td>1</td>\n",
       "      <td>7</td>\n",
       "    </tr>\n",
       "  </tbody>\n",
       "</table>\n",
       "<p>280 rows × 5 columns</p>\n",
       "</div>"
      ],
      "text/plain": [
       "            0     1     2     3     4\n",
       "Age        75    56    54    55    75\n",
       "Sex         0     1     0     0     0\n",
       "Height    190   165   172   175   190\n",
       "Weight     80    64    95    94    80\n",
       "QRS_Dur    91    81   138   100    88\n",
       "...       ...   ...   ...   ...   ...\n",
       "V6276     0.9   0.2   0.3   0.4  -0.1\n",
       "V6277     2.9   2.1   3.4   2.6   3.9\n",
       "V6278    23.3  20.4  12.3  34.6  25.4\n",
       "V6279    49.4  38.8  49.0  61.6  62.8\n",
       "Class       8     6    10     1     7\n",
       "\n",
       "[280 rows x 5 columns]"
      ]
     },
     "execution_count": 3,
     "metadata": {},
     "output_type": "execute_result"
    }
   ],
   "source": [
    "df.head().transpose()"
   ]
  },
  {
   "cell_type": "code",
   "execution_count": 4,
   "id": "0f1e5334",
   "metadata": {},
   "outputs": [
    {
     "data": {
      "text/plain": [
       "(452, 280)"
      ]
     },
     "execution_count": 4,
     "metadata": {},
     "output_type": "execute_result"
    }
   ],
   "source": [
    "df.shape"
   ]
  },
  {
   "cell_type": "code",
   "execution_count": 5,
   "id": "b1b6230a",
   "metadata": {},
   "outputs": [
    {
     "name": "stdout",
     "output_type": "stream",
     "text": [
      "<class 'pandas.core.frame.DataFrame'>\n",
      "RangeIndex: 452 entries, 0 to 451\n",
      "Columns: 280 entries, Age to Class\n",
      "dtypes: float64(120), int64(155), object(5)\n",
      "memory usage: 988.9+ KB\n"
     ]
    }
   ],
   "source": [
    "#data type\n",
    "df.info()"
   ]
  },
  {
   "cell_type": "code",
   "execution_count": 6,
   "id": "c9182717",
   "metadata": {},
   "outputs": [
    {
     "data": {
      "image/png": "[encoded data removed]",
      "text/plain": [
       "<Figure size 432x288 with 1 Axes>"
      ]
     },
     "metadata": {},
     "output_type": "display_data"
    }
   ],
   "source": [
    "sns.set()\n",
    "df[\"Class\"] = df[\"Class\"].astype(int)\n",
    "class_count=sns.countplot(x=\"Class\", data=df)\n",
    "plt.gca().set_xticklabels(['1','2' ,'3' ,'4', '5' , '6' ,'7','8' ,'9' ,'10'  ,'12' , '14', '15']);\n",
    "\n",
    "class_count.figure.savefig('class.png')"
   ]
  },
  {
   "cell_type": "markdown",
   "id": "13eaa723",
   "metadata": {},
   "source": [
    "# identifiying missing values"
   ]
  },
  {
   "cell_type": "code",
   "execution_count": 7,
   "id": "20d87d7b",
   "metadata": {},
   "outputs": [
    {
     "data": {
      "text/plain": [
       "408"
      ]
     },
     "execution_count": 7,
     "metadata": {},
     "output_type": "execute_result"
    }
   ],
   "source": [
    "df.isna().sum().sum()"
   ]
  },
  {
   "cell_type": "code",
   "execution_count": 8,
   "id": "f0782eb5",
   "metadata": {},
   "outputs": [
    {
     "data": {
      "image/png": "[encoded data removed]",
      "text/plain": [
       "<Figure size 432x288 with 1 Axes>"
      ]
     },
     "metadata": {},
     "output_type": "display_data"
    }
   ],
   "source": [
    "pd.isnull(df).sum()[0:25].plot(kind='bar')\n",
    "plt.xlabel('Attributes')\n",
    "plt.ylabel('Count of NaN');"
   ]
  },
  {
   "cell_type": "code",
   "execution_count": 9,
   "id": "f6ea3b50",
   "metadata": {},
   "outputs": [
    {
     "data": {
      "text/plain": [
       "(452, 279)"
      ]
     },
     "execution_count": 9,
     "metadata": {},
     "output_type": "execute_result"
    }
   ],
   "source": [
    "df.dropna(thresh=0.5*len(df),axis=1,inplace=True)\n",
    "df.shape"
   ]
  },
  {
   "cell_type": "code",
   "execution_count": 10,
   "id": "0897a3da",
   "metadata": {},
   "outputs": [
    {
     "data": {
      "text/plain": [
       "32"
      ]
     },
     "execution_count": 10,
     "metadata": {},
     "output_type": "execute_result"
    }
   ],
   "source": [
    "df.isna().sum().sum()"
   ]
  },
  {
   "cell_type": "markdown",
   "id": "3ece7183",
   "metadata": {},
   "source": [
    "# get the numeric columns and fill the missing values"
   ]
  },
  {
   "cell_type": "code",
   "execution_count": 11,
   "id": "126e56a7",
   "metadata": {},
   "outputs": [
    {
     "data": {
      "text/plain": [
       "0"
      ]
     },
     "execution_count": 11,
     "metadata": {},
     "output_type": "execute_result"
    }
   ],
   "source": [
    "df= df.fillna(df.mean().iloc[0])\n",
    "\n",
    "df.isna().sum().sum()"
   ]
  },
  {
   "cell_type": "markdown",
   "id": "9b9777bf",
   "metadata": {},
   "source": [
    "# Normalize the scale"
   ]
  },
  {
   "cell_type": "code",
   "execution_count": 12,
   "id": "33ceb139",
   "metadata": {},
   "outputs": [],
   "source": [
    "sc=MinMaxScaler()\n",
    "df_scaled = pd.DataFrame(sc.fit_transform(df.drop('Class', axis=1)),columns = (df.drop('Class', axis=1)).columns)"
   ]
  },
  {
   "cell_type": "markdown",
   "id": "574fad08",
   "metadata": {},
   "source": [
    "# PCA"
   ]
  },
  {
   "cell_type": "code",
   "execution_count": 13,
   "id": "7111c595",
   "metadata": {},
   "outputs": [],
   "source": [
    "pca = PCA(n_components=16)\n",
    "pca.fit(df_scaled)\n",
    "data = pca.transform(df_scaled)"
   ]
  },
  {
   "cell_type": "markdown",
   "id": "18c7554e",
   "metadata": {},
   "source": [
    "# 2. visualization"
   ]
  },
  {
   "cell_type": "code",
   "execution_count": 14,
   "id": "3558ee99",
   "metadata": {},
   "outputs": [
    {
     "data": {
      "image/png": "[encoded data removed]",
      "text/plain": [
       "<Figure size 432x288 with 1 Axes>"
      ]
     },
     "metadata": {},
     "output_type": "display_data"
    }
   ],
   "source": [
    "plt.scatter(data[:,0],data[:,1],s=7)\n",
    "plt.show()"
   ]
  },
  {
   "cell_type": "markdown",
   "id": "e96436fe",
   "metadata": {},
   "source": [
    "# 3. kmeans"
   ]
  },
  {
   "cell_type": "code",
   "execution_count": 15,
   "id": "561fc360",
   "metadata": {},
   "outputs": [],
   "source": [
    "silhouette_coefficients =[]\n",
    "randed_score=[]"
   ]
  },
  {
   "cell_type": "code",
   "execution_count": 100,
   "id": "9a937d48",
   "metadata": {},
   "outputs": [
    {
     "data": {
      "image/png": "[encoded data removed]",
      "text/plain": [
       "<Figure size 432x288 with 1 Axes>"
      ]
     },
     "metadata": {},
     "output_type": "display_data"
    }
   ],
   "source": [
    "for i in range(31):\n",
    "        \n",
    "    km=KMeans(n_clusters=16, init ='random').fit(data)\n",
    "    y_kmeans = km.fit_predict(data)\n",
    "    \n",
    "    #silhouetter score\n",
    "    sil_score =silhouette_score(df_scaled, km.labels_) \n",
    "    silhouette_coefficients.append(sil_score)\n",
    "\n",
    "    \n",
    "    #RAND SCORE\n",
    "    rn_score = rand_score(df['Class'].to_numpy (),km.labels_)\n",
    "    randed_score.append(rn_score)\n",
    "\n",
    "    #visualisation clusters\n",
    "    plt.scatter(data[:,0],data[:,1],s=7,c=km.labels_)\n",
    "\n",
    "    \n",
    "for i in range(16): \n",
    "    plt.scatter(km.cluster_centers_[i,0], km.cluster_centers_[i,1], marker='*', c='g', s=150)\n",
    "\n"
   ]
  },
  {
   "cell_type": "code",
   "execution_count": 101,
   "id": "6f19d015",
   "metadata": {},
   "outputs": [
    {
     "data": {
      "text/plain": [
       "0.6697113592213959"
      ]
     },
     "execution_count": 101,
     "metadata": {},
     "output_type": "execute_result"
    }
   ],
   "source": [
    "np.max(randed_score)"
   ]
  },
  {
   "cell_type": "code",
   "execution_count": 102,
   "id": "1dfecc0a",
   "metadata": {},
   "outputs": [],
   "source": [
    "X1 = np.std(randed_score)\n",
    "X2 = np.max(randed_score)\n",
    "X3 = np.min(randed_score)\n",
    "X4 = np.mean(randed_score)"
   ]
  },
  {
   "cell_type": "code",
   "execution_count": 103,
   "id": "e1289f86",
   "metadata": {},
   "outputs": [
    {
     "data": {
      "text/plain": [
       "0.03737889987141814"
      ]
     },
     "execution_count": 103,
     "metadata": {},
     "output_type": "execute_result"
    }
   ],
   "source": [
    "np.min(silhouette_coefficients)"
   ]
  },
  {
   "cell_type": "code",
   "execution_count": 104,
   "id": "27ca1cc9",
   "metadata": {},
   "outputs": [],
   "source": [
    "Y1 = np.std(silhouette_coefficients)\n",
    "Y2 = np.max(silhouette_coefficients)\n",
    "Y3 = np.min(silhouette_coefficients)\n",
    "Y4 = np.mean(silhouette_coefficients)"
   ]
  },
  {
   "cell_type": "markdown",
   "id": "ea1d32a7",
   "metadata": {},
   "source": [
    "# 4. Generate Excel file "
   ]
  },
  {
   "cell_type": "code",
   "execution_count": 106,
   "id": "228fc740",
   "metadata": {},
   "outputs": [],
   "source": [
    "path = r\"C:\\Users\\MAXFRAME\\Desktop\\DamiExcel\\dataArryth.xlsx\"\n",
    "dami={'rand_score':[X1,X2,X3,X4],'silhouette_coefficients':[Y1,Y2,Y3,Y4]}\n",
    "\n",
    "df1 = pd.DataFrame(dami,index=['std','max','min', 'mean'])\n",
    "\n",
    "writer = pd.ExcelWriter(path, engine = 'xlsxwriter')\n",
    "\n",
    "df1.to_excel(writer)\n",
    "\n",
    "writer.save()\n",
    "writer.close()"
   ]
  },
  {
   "cell_type": "code",
   "execution_count": null,
   "id": "27797c53",
   "metadata": {},
   "outputs": [],
   "source": []
  }
 ],
 "metadata": {
  "kernelspec": {
   "display_name": "Python 3",
   "language": "python",
   "name": "python3"
  },
  "language_info": {
   "codemirror_mode": {
    "name": "ipython",
    "version": 3
   },
   "file_extension": ".py",
   "mimetype": "text/x-python",
   "name": "python",
   "nbconvert_exporter": "python",
   "pygments_lexer": "ipython3",
   "version": "3.8.8"
  }
 },
 "nbformat": 4,
 "nbformat_minor": 5
}
